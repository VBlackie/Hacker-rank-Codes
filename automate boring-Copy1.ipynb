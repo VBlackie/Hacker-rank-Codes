{
 "cells": [
  {
   "cell_type": "code",
   "execution_count": 6,
   "metadata": {},
   "outputs": [
    {
     "name": "stdout",
     "output_type": "stream",
     "text": [
      "Index 0 in suplies is: pens\n",
      "Index 1 in suplies is: staplers\n",
      "Index 2 in suplies is: flamethrowers\n",
      "Index 3 in suplies is: binders\n"
     ]
    }
   ],
   "source": [
    "supplies=['pens','staplers','flamethrowers','binders']\n",
    "for i in range(len(supplies)):\n",
    "    print('Index ' + str(i)+' in suplies is: ' + supplies[i])"
   ]
  },
  {
   "cell_type": "code",
   "execution_count": 7,
   "metadata": {},
   "outputs": [
    {
     "data": {
      "text/plain": [
       "True"
      ]
     },
     "execution_count": 7,
     "metadata": {},
     "output_type": "execute_result"
    }
   ],
   "source": [
    "'pens' in supplies"
   ]
  },
  {
   "cell_type": "code",
   "execution_count": 8,
   "metadata": {},
   "outputs": [
    {
     "data": {
      "text/plain": [
       "False"
      ]
     },
     "execution_count": 8,
     "metadata": {},
     "output_type": "execute_result"
    }
   ],
   "source": [
    "'scissors' in supplies"
   ]
  },
  {
   "cell_type": "code",
   "execution_count": 10,
   "metadata": {},
   "outputs": [
    {
     "name": "stdout",
     "output_type": "stream",
     "text": [
      "57\n"
     ]
    }
   ],
   "source": [
    "spp=56\n",
    "spp += 1\n",
    "print(spp)"
   ]
  },
  {
   "cell_type": "code",
   "execution_count": 11,
   "metadata": {},
   "outputs": [
    {
     "data": {
      "text/plain": [
       "[-7, 1, 2, 3.14, 5]"
      ]
     },
     "execution_count": 11,
     "metadata": {},
     "output_type": "execute_result"
    }
   ],
   "source": [
    "spam=[2,5,3.14,1,-7]\n",
    "spam.sort()\n",
    "spam"
   ]
  },
  {
   "cell_type": "code",
   "execution_count": 12,
   "metadata": {},
   "outputs": [
    {
     "data": {
      "text/plain": [
       "['ants', 'badgers', 'cats', 'dogs', 'elephants']"
      ]
     },
     "execution_count": 12,
     "metadata": {},
     "output_type": "execute_result"
    }
   ],
   "source": [
    "spam2=['ants','cats','dogs','badgers','elephants']\n",
    "spam2.sort()\n",
    "spam2"
   ]
  },
  {
   "cell_type": "code",
   "execution_count": 17,
   "metadata": {},
   "outputs": [
    {
     "name": "stdout",
     "output_type": "stream",
     "text": [
      "very doubtful\n"
     ]
    }
   ],
   "source": [
    "import random\n",
    "messages=['it is certain','it is decidedly so','yes definitely','reply hazy try again','ask again later','concentrate and ask again','my reply is no','outlook not so good','very doubtful']\n",
    "print(messages[random.randint(0,len(messages)-1)])"
   ]
  },
  {
   "cell_type": "code",
   "execution_count": 19,
   "metadata": {},
   "outputs": [
    {
     "name": "stdout",
     "output_type": "stream",
     "text": [
      "***c***\n",
      "***o***\n",
      "***k***\n",
      "***i***\n",
      "***t***\n",
      "***o***\n",
      "*** ***\n",
      "***e***\n",
      "***l***\n",
      "*** ***\n",
      "***p***\n",
      "***e***\n",
      "***r***\n",
      "***r***\n",
      "***i***\n",
      "***t***\n",
      "***o***\n"
     ]
    }
   ],
   "source": [
    "name='cokito el perrito'\n",
    "for i in name:\n",
    "    print('***'+i+'***')"
   ]
  },
  {
   "cell_type": "code",
   "execution_count": 24,
   "metadata": {},
   "outputs": [
    {
     "name": "stdout",
     "output_type": "stream",
     "text": [
      "cokito AGUAS el perrito\n"
     ]
    }
   ],
   "source": [
    "newName=name[0:7]+'AGUAS '+name[7:len(name)]\n",
    "print(newName)"
   ]
  },
  {
   "cell_type": "code",
   "execution_count": 25,
   "metadata": {},
   "outputs": [
    {
     "data": {
      "text/plain": [
       "[0, 'Hello', 2, 3, 4, 5]"
      ]
     },
     "execution_count": 25,
     "metadata": {},
     "output_type": "execute_result"
    }
   ],
   "source": [
    "spam3=[0,1,2,3,4,5]\n",
    "cheese=spam3\n",
    "cheese[1]='Hello'\n",
    "spam\n",
    "cheese"
   ]
  },
  {
   "cell_type": "code",
   "execution_count": 26,
   "metadata": {},
   "outputs": [
    {
     "data": {
      "text/plain": [
       "[0, 'Hello', 2, 3, 4, 5]"
      ]
     },
     "execution_count": 26,
     "metadata": {},
     "output_type": "execute_result"
    }
   ],
   "source": [
    "spam3"
   ]
  },
  {
   "cell_type": "code",
   "execution_count": 27,
   "metadata": {},
   "outputs": [
    {
     "name": "stdout",
     "output_type": "stream",
     "text": [
      "['a', 'b', 'c', 'd']\n",
      "['a', 42, 'c', 'd']\n"
     ]
    }
   ],
   "source": [
    "import copy\n",
    "spam=['a','b','c','d']\n",
    "cheese=copy.copy(spam)\n",
    "cheese[1]=42\n",
    "print(spam)\n",
    "print(cheese)"
   ]
  },
  {
   "cell_type": "code",
   "execution_count": 43,
   "metadata": {
    "scrolled": true
   },
   "outputs": [
    {
     "name": "stdout",
     "output_type": "stream",
     "text": [
      "applesbananastofucatsapples  bananas  tofu  cats\n",
      "apples bananas tofu and cats "
     ]
    }
   ],
   "source": [
    "spam=['apples','bananas','tofu','cats']\n",
    "for i in spam:\n",
    "    print(i,end='')\n",
    "s=[str(i) for i in spam]\n",
    "res=\"  \".join(s)\n",
    "print(res)\n",
    "\n",
    "spam.insert(-1,'and')\n",
    "for j in spam:\n",
    "    print(j,end=' ')"
   ]
  },
  {
   "cell_type": "code",
   "execution_count": null,
   "metadata": {},
   "outputs": [],
   "source": [
    "grid = [['.', '.', '.', '.', '.', '.'],\n",
    "        ['.', 'O', 'O', '.', '.', '.'],\n",
    "        ['O', 'O', 'O', 'O', '.', '.'],\n",
    "        ['O', 'O', 'O', 'O', 'O', '.'],\n",
    "        ['.', 'O', 'O', 'O', 'O', 'O'],\n",
    "        ['O', 'O', 'O', 'O', 'O', '.'],\n",
    "        ['O', 'O', 'O', 'O', '.', '.'],\n",
    "        ['.', 'O', 'O', '.', '.', '.'],\n",
    "        ['.', '.', '.', '.', '.', '.']]\n"
   ]
  },
  {
   "cell_type": "code",
   "execution_count": 44,
   "metadata": {},
   "outputs": [
    {
     "name": "stdout",
     "output_type": "stream",
     "text": [
      "Alice\n",
      "\n",
      "I dunno whos that\n",
      "when is his birthday\n",
      "dec 16\n",
      "{'Alice': 'Apr 1', 'Bob': 'Dec 12', 'Carol': 'Mar 4', '': 'dec 16'}\n"
     ]
    }
   ],
   "source": [
    "birthdays={'Alice':'Apr 1','Bob':'Dec 12', 'Carol':'Mar 4'}\n",
    "\n",
    "while True:\n",
    "    name=input()\n",
    "    if name =='':\n",
    "        break\n",
    "        \n",
    "if name in birthdays:\n",
    "    print(birthdays[name]+'birthday of'+ name)\n",
    "else:\n",
    "    print('I dunno whos that')\n",
    "    print('when is his birthday')\n",
    "    bday=input()\n",
    "    birthdays[name]=bday\n",
    "    print(birthdays)"
   ]
  },
  {
   "cell_type": "code",
   "execution_count": 3,
   "metadata": {},
   "outputs": [
    {
     "name": "stdout",
     "output_type": "stream",
     "text": [
      "['perro', 'otro perro']\n"
     ]
    }
   ],
   "source": [
    "a=['perro']\n",
    "a+=['otro perro']\n",
    "print(a)"
   ]
  },
  {
   "cell_type": "code",
   "execution_count": 2,
   "metadata": {
    "scrolled": true
   },
   "outputs": [
    {
     "name": "stdout",
     "output_type": "stream",
     "text": [
      "inserta un numero de variables5\n",
      "[0, 0, 0, 0, 0]\n",
      "12 34 56 78 92\n",
      "[12, 34, 56, 78, 92]\n"
     ]
    }
   ],
   "source": [
    "x1=input('inserta un numero de variables')\n",
    "x2=int(x1)\n",
    "l1=[0]*x2\n",
    "print(l1)\n",
    "l2=[int(y) for y in input().split() ]\n",
    "print(l2)"
   ]
  },
  {
   "cell_type": "code",
   "execution_count": 8,
   "metadata": {},
   "outputs": [
    {
     "name": "stdout",
     "output_type": "stream",
     "text": [
      "I am bringing 5 cups\n",
      "I am bringing 0 eggs\n"
     ]
    }
   ],
   "source": [
    "picnicItems={'apples':5,'cups':5}\n",
    "print('I am bringing '+str(picnicItems.get('cups',0))+' cups')\n",
    "\n",
    "print('I am bringing '+str(picnicItems.get('eggs',0))+' eggs')"
   ]
  },
  {
   "cell_type": "code",
   "execution_count": 16,
   "metadata": {},
   "outputs": [
    {
     "name": "stdout",
     "output_type": "stream",
     "text": [
      "{' ': 13,\n",
      " ',': 1,\n",
      " '.': 1,\n",
      " 'A': 1,\n",
      " 'I': 1,\n",
      " 'a': 4,\n",
      " 'b': 1,\n",
      " 'c': 3,\n",
      " 'd': 3,\n",
      " 'e': 5,\n",
      " 'g': 2,\n",
      " 'h': 3,\n",
      " 'i': 6,\n",
      " 'k': 2,\n",
      " 'l': 3,\n",
      " 'n': 4,\n",
      " 'o': 2,\n",
      " 'p': 1,\n",
      " 'r': 5,\n",
      " 's': 3,\n",
      " 't': 6,\n",
      " 'w': 2,\n",
      " 'y': 1}\n",
      "['It', 'was', 'a', 'bright', 'cold', 'day', 'in', 'April,', 'and', 'the', 'clocks', 'were', 'striking', 'thirteen.']\n",
      "{'April,': 1,\n",
      " 'It': 1,\n",
      " 'a': 1,\n",
      " 'and': 1,\n",
      " 'bright': 1,\n",
      " 'clocks': 1,\n",
      " 'cold': 1,\n",
      " 'day': 1,\n",
      " 'in': 1,\n",
      " 'striking': 1,\n",
      " 'the': 1,\n",
      " 'thirteen.': 1,\n",
      " 'was': 1,\n",
      " 'were': 1}\n"
     ]
    }
   ],
   "source": [
    "import pprint\n",
    "message = 'It was a bright cold day in April, and the clocks were striking thirteen.'\n",
    "count={}\n",
    "for character in message:\n",
    "    count.setdefault(character,0)\n",
    "    count[character]=count[character]+1\n",
    "pprint.pprint(count)\n",
    "\n",
    "a=message.split()\n",
    "print(a)\n",
    "cont={}\n",
    "for j in a:\n",
    "    cont.setdefault(j,0)\n",
    "    cont[j]+=1\n",
    "pprint.pprint(cont)"
   ]
  },
  {
   "cell_type": "code",
   "execution_count": null,
   "metadata": {},
   "outputs": [],
   "source": []
  }
 ],
 "metadata": {
  "kernelspec": {
   "display_name": "Python 3",
   "language": "python",
   "name": "python3"
  },
  "language_info": {
   "codemirror_mode": {
    "name": "ipython",
    "version": 3
   },
   "file_extension": ".py",
   "mimetype": "text/x-python",
   "name": "python",
   "nbconvert_exporter": "python",
   "pygments_lexer": "ipython3",
   "version": "3.6.5"
  }
 },
 "nbformat": 4,
 "nbformat_minor": 2
}
