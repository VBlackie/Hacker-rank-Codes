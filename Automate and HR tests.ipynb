{
 "cells": [
  {
   "cell_type": "markdown",
   "metadata": {},
   "source": [
    "This is a test texxt for upocming Subtitles"
   ]
  },
  {
   "cell_type": "code",
   "execution_count": 18,
   "metadata": {},
   "outputs": [
    {
     "name": "stdout",
     "output_type": "stream",
     "text": [
      "4 8\n",
      "30\n"
     ]
    }
   ],
   "source": [
    "a=[int(x) for x in input().split()]\n",
    "c=[]\n",
    "for x in range(a[0],a[1]+1):\n",
    "    c.append(x)\n",
    "print(sum(c))"
   ]
  },
  {
   "cell_type": "code",
   "execution_count": 23,
   "metadata": {},
   "outputs": [
    {
     "name": "stdout",
     "output_type": "stream",
     "text": [
      "5\n",
      "[0, 0, 0, 0, 0]\n",
      "1 7 2 4 5\n",
      "[1, 7, 2, 4, 5]\n",
      "[1, 2, 4, 5, 7]\n",
      "7\n"
     ]
    }
   ],
   "source": [
    "d=input()\n",
    "e=[0]*int(d)\n",
    "print(e)\n",
    "e=[int(y) for y in input().split()]\n",
    "print(e)\n",
    "e.sort()\n",
    "\n",
    "print(e)\n",
    "cont=0\n",
    "while cont==0:\n",
    "    for z in e:\n",
    "        if z%2!=0:\n",
    "            prim=(max(e))\n",
    "            cont=cont+1\n",
    "            break\n",
    "        else:\n",
    "            pass\n",
    "print(prim)\n",
    "            \n",
    "   "
   ]
  },
  {
   "cell_type": "code",
   "execution_count": null,
   "metadata": {},
   "outputs": [],
   "source": [
    "d=input()\n",
    "e=[0]*int(d)\n",
    "e=[int(y) for y in input().split()]\n",
    "e.sort()\n",
    "f=set(e)\n",
    "f.remove(max(f))\n",
    "print(max(f))"
   ]
  },
  {
   "cell_type": "code",
   "execution_count": null,
   "metadata": {},
   "outputs": [],
   "source": [
    "f=[int(x1) for x1 in input().split()]\n",
    "g=[int(x2) for x2 in input().split()]\n",
    "h=[int(x3) for x3 in input().split()]\n",
    "\n",
    "i=[3]"
   ]
  },
  {
   "cell_type": "markdown",
   "metadata": {},
   "source": [
    "d=input()\n",
    "e=[0]*int(d)\n",
    "e=[int(y) for y in input().split()]\n",
    "e.sort()\n",
    "e.remove(max(e))\n",
    "cont=0\n",
    "while cont==0:\n",
    "    for z in e:\n",
    "        if z%2!=0:\n",
    "            prim=(max(e))\n",
    "            cont=cont+1\n",
    "            break\n",
    "        else:\n",
    "            pass\n",
    "print(prim)"
   ]
  },
  {
   "cell_type": "code",
   "execution_count": null,
   "metadata": {},
   "outputs": [],
   "source": [
    "d=input()\n",
    "e=[0]*int(d)\n",
    "e=[int(y) for y in input().split()]\n",
    "e.sort(reverse=True)\n",
    "e.remove(max(e))\n",
    "cont=0\n",
    "count=1\n",
    "while count==1:\n",
    "    for z in e:\n",
    "        if z%2!=0:\n",
    "            prim=(z)\n",
    "            count=count+1\n",
    "            break\n",
    "        else:\n",
    "            pass\n",
    "print(prim)"
   ]
  },
  {
   "cell_type": "code",
   "execution_count": 3,
   "metadata": {},
   "outputs": [
    {
     "name": "stdout",
     "output_type": "stream",
     "text": [
      "5\n",
      "1 2 3 4 5 \n",
      "4\n"
     ]
    }
   ],
   "source": [
    "d=input()\n",
    "e=[0]*int(d)\n",
    "e=[int(y) for y in input().split()]\n",
    "e.sort(reverse=True)\n",
    "count=1\n",
    "i=int(d)-1\n",
    "while count==1:\n",
    "    for z in e:\n",
    "        if i%2==1:\n",
    "            prim=(z)\n",
    "            count=count+1\n",
    "            break\n",
    "        else:\n",
    "            i=i-1\n",
    "print(prim)"
   ]
  },
  {
   "cell_type": "code",
   "execution_count": 8,
   "metadata": {},
   "outputs": [
    {
     "name": "stdout",
     "output_type": "stream",
     "text": [
      "5\n",
      "[0, 0, 0, 0, 0]\n",
      "1 5 2 3 7\n",
      "[1, 5, 2, 3, 7]\n",
      "1\n",
      "5\n",
      "2\n",
      "3\n",
      "7\n"
     ]
    }
   ],
   "source": [
    "x=input()\n",
    "a=[0]*int(x)\n",
    "print(a)\n",
    "a=[int(y) for y in input().split()]\n",
    "print(a)\n",
    "for j in a:\n",
    "    print(j)"
   ]
  },
  {
   "cell_type": "code",
   "execution_count": 9,
   "metadata": {},
   "outputs": [],
   "source": [
    "tup=tuple('coconoto')"
   ]
  },
  {
   "cell_type": "code",
   "execution_count": 10,
   "metadata": {},
   "outputs": [
    {
     "data": {
      "text/plain": [
       "('c', 'o', 'c', 'o', 'n', 'o', 't', 'o')"
      ]
     },
     "execution_count": 10,
     "metadata": {},
     "output_type": "execute_result"
    }
   ],
   "source": [
    "tup"
   ]
  },
  {
   "cell_type": "code",
   "execution_count": 11,
   "metadata": {},
   "outputs": [
    {
     "data": {
      "text/plain": [
       "\"('c', 'o', 'c', 'o', 'n', 'o', 't', 'o')\""
      ]
     },
     "execution_count": 11,
     "metadata": {},
     "output_type": "execute_result"
    }
   ],
   "source": [
    "str(tup)"
   ]
  },
  {
   "cell_type": "code",
   "execution_count": 12,
   "metadata": {},
   "outputs": [
    {
     "data": {
      "text/plain": [
       "('c', 'c', 'n', 't')"
      ]
     },
     "execution_count": 12,
     "metadata": {},
     "output_type": "execute_result"
    }
   ],
   "source": [
    "tup[0::2]"
   ]
  },
  {
   "cell_type": "code",
   "execution_count": 13,
   "metadata": {},
   "outputs": [
    {
     "name": "stdout",
     "output_type": "stream",
     "text": [
      "['c', 'o', 'c', 'o', 'n', 'o', 't', 'o']\n"
     ]
    }
   ],
   "source": [
    "a22=list(tup)\n",
    "print(a22)"
   ]
  },
  {
   "cell_type": "code",
   "execution_count": 14,
   "metadata": {},
   "outputs": [
    {
     "name": "stdout",
     "output_type": "stream",
     "text": [
      "1 23 45 coco perro esta bonito 75\n"
     ]
    }
   ],
   "source": [
    "a23= [y for y in input().split()]"
   ]
  },
  {
   "cell_type": "code",
   "execution_count": 15,
   "metadata": {},
   "outputs": [
    {
     "data": {
      "text/plain": [
       "['1', '23', '45', 'coco', 'perro', 'esta', 'bonito', '75']"
      ]
     },
     "execution_count": 15,
     "metadata": {},
     "output_type": "execute_result"
    }
   ],
   "source": [
    "a23"
   ]
  },
  {
   "cell_type": "code",
   "execution_count": 16,
   "metadata": {},
   "outputs": [
    {
     "name": "stdout",
     "output_type": "stream",
     "text": [
      "('1', '23', '45', 'coco', 'perro', 'esta', 'bonito', '75')\n"
     ]
    }
   ],
   "source": [
    "a24=tuple(a23)\n",
    "print(a24)"
   ]
  },
  {
   "cell_type": "code",
   "execution_count": 17,
   "metadata": {},
   "outputs": [],
   "source": [
    "a25='ella era tan fea que hacia llorar a las cebollas'\n",
    "a26=list(a25)"
   ]
  },
  {
   "cell_type": "code",
   "execution_count": 18,
   "metadata": {},
   "outputs": [
    {
     "data": {
      "text/plain": [
       "['e',\n",
       " 'l',\n",
       " 'l',\n",
       " 'a',\n",
       " ' ',\n",
       " 'e',\n",
       " 'r',\n",
       " 'a',\n",
       " ' ',\n",
       " 't',\n",
       " 'a',\n",
       " 'n',\n",
       " ' ',\n",
       " 'f',\n",
       " 'e',\n",
       " 'a',\n",
       " ' ',\n",
       " 'q',\n",
       " 'u',\n",
       " 'e',\n",
       " ' ',\n",
       " 'h',\n",
       " 'a',\n",
       " 'c',\n",
       " 'i',\n",
       " 'a',\n",
       " ' ',\n",
       " 'l',\n",
       " 'l',\n",
       " 'o',\n",
       " 'r',\n",
       " 'a',\n",
       " 'r',\n",
       " ' ',\n",
       " 'a',\n",
       " ' ',\n",
       " 'l',\n",
       " 'a',\n",
       " 's',\n",
       " ' ',\n",
       " 'c',\n",
       " 'e',\n",
       " 'b',\n",
       " 'o',\n",
       " 'l',\n",
       " 'l',\n",
       " 'a',\n",
       " 's']"
      ]
     },
     "execution_count": 18,
     "metadata": {},
     "output_type": "execute_result"
    }
   ],
   "source": [
    "a26"
   ]
  },
  {
   "cell_type": "code",
   "execution_count": 20,
   "metadata": {},
   "outputs": [
    {
     "name": "stdout",
     "output_type": "stream",
     "text": [
      "['1', '23', '45', 'coco', 'perro', 'esta', 'bonito', '75', 'otro coco']\n"
     ]
    }
   ],
   "source": [
    "a23.append('otro coco')\n",
    "print(a23)"
   ]
  },
  {
   "cell_type": "code",
   "execution_count": 21,
   "metadata": {},
   "outputs": [
    {
     "name": "stdout",
     "output_type": "stream",
     "text": [
      "['1', '23', '45', 'coco', 'perro', 'esta', 'bonito', '75']\n"
     ]
    }
   ],
   "source": [
    "a23.remove('otro coco')\n",
    "print(a23)"
   ]
  },
  {
   "cell_type": "code",
   "execution_count": 8,
   "metadata": {},
   "outputs": [
    {
     "name": "stdout",
     "output_type": "stream",
     "text": [
      "alc\n",
      "acio\n",
      "alumocihclahC\n"
     ]
    }
   ],
   "source": [
    "ss='Chalchicomula'\n",
    "print(ss[2:5])\n",
    "print(ss[2:10:2])\n",
    "print(ss[::-1])"
   ]
  },
  {
   "cell_type": "code",
   "execution_count": 9,
   "metadata": {},
   "outputs": [
    {
     "ename": "NameError",
     "evalue": "name 'a23' is not defined",
     "output_type": "error",
     "traceback": [
      "\u001b[1;31m---------------------------------------------------------------------------\u001b[0m",
      "\u001b[1;31mNameError\u001b[0m                                 Traceback (most recent call last)",
      "\u001b[1;32m<ipython-input-9-7fd38ef31e5b>\u001b[0m in \u001b[0;36m<module>\u001b[1;34m()\u001b[0m\n\u001b[1;32m----> 1\u001b[1;33m \u001b[0ma23\u001b[0m\u001b[1;33m\u001b[0m\u001b[0m\n\u001b[0m",
      "\u001b[1;31mNameError\u001b[0m: name 'a23' is not defined"
     ]
    }
   ],
   "source": [
    "a23"
   ]
  },
  {
   "cell_type": "code",
   "execution_count": 13,
   "metadata": {},
   "outputs": [
    {
     "name": "stdout",
     "output_type": "stream",
     "text": [
      "estaban los tomatitos muy contentitos cuando me los comi\n",
      "['estaban', 'los', 'tomatitos', 'muy', 'contentitos', 'cuando', 'me', 'los', 'comi']\n",
      "{'estaban': 0, 'los': 7, 'tomatitos': 2, 'muy': 3, 'contentitos': 4, 'cuando': 5, 'me': 6, 'comi': 8}\n"
     ]
    }
   ],
   "source": [
    "a23= [y for y in input().split()]\n",
    "print(a23)\n",
    "i23={}\n",
    "for i,v in enumerate(a23):\n",
    "    i23[v]=i\n",
    "print(i23)"
   ]
  },
  {
   "cell_type": "code",
   "execution_count": 2,
   "metadata": {},
   "outputs": [
    {
     "name": "stdout",
     "output_type": "stream",
     "text": [
      "['Hello', 'everyone,', 'this', 'is', 'H', 'to', 'the', 'usky', 'husky']\n"
     ]
    }
   ],
   "source": [
    "spam='Hello everyone, this is H to the usky husky'\n",
    "print(spam.split(' '))\n"
   ]
  },
  {
   "cell_type": "code",
   "execution_count": 10,
   "metadata": {},
   "outputs": [
    {
     "data": {
      "text/plain": [
       "[('415', '555', '0000'), ('212', '555', '0000')]"
      ]
     },
     "execution_count": 10,
     "metadata": {},
     "output_type": "execute_result"
    }
   ],
   "source": [
    "import re\n",
    "phoneNumRegex=re.compile(r'(\\d\\d\\d)-(\\d\\d\\d)-(\\d\\d\\d\\d)')\n",
    "phoneNumRegex.findall('Cell: 415-555-0000 Work:212-555-0000')\n"
   ]
  },
  {
   "cell_type": "code",
   "execution_count": 11,
   "metadata": {},
   "outputs": [
    {
     "data": {
      "text/plain": [
       "False"
      ]
     },
     "execution_count": 11,
     "metadata": {},
     "output_type": "execute_result"
    }
   ],
   "source": [
    "beginsWithHello=re.compile(r'Hello')\n",
    "beginsWithHello.search('Hello World!')\n",
    "beginsWithHello.search('he said Hello.')==None"
   ]
  },
  {
   "cell_type": "code",
   "execution_count": 12,
   "metadata": {},
   "outputs": [
    {
     "ename": "NameError",
     "evalue": "name 'endsWithNumber' is not defined",
     "output_type": "error",
     "traceback": [
      "\u001b[1;31m---------------------------------------------------------------------------\u001b[0m",
      "\u001b[1;31mNameError\u001b[0m                                 Traceback (most recent call last)",
      "\u001b[1;32m<ipython-input-12-79d4f1fcb3c6>\u001b[0m in \u001b[0;36m<module>\u001b[1;34m\u001b[0m\n\u001b[0;32m      1\u001b[0m \u001b[0mendsWtihNumber\u001b[0m\u001b[1;33m=\u001b[0m\u001b[0mre\u001b[0m\u001b[1;33m.\u001b[0m\u001b[0mcompile\u001b[0m\u001b[1;33m(\u001b[0m\u001b[1;34mr'\\d$'\u001b[0m\u001b[1;33m)\u001b[0m\u001b[1;33m\u001b[0m\u001b[1;33m\u001b[0m\u001b[0m\n\u001b[1;32m----> 2\u001b[1;33m \u001b[0mendsWithNumber\u001b[0m\u001b[1;33m.\u001b[0m\u001b[0msearch\u001b[0m\u001b[1;33m(\u001b[0m\u001b[1;34m'Your number is 42'\u001b[0m\u001b[1;33m)\u001b[0m\u001b[1;33m\u001b[0m\u001b[1;33m\u001b[0m\u001b[0m\n\u001b[0m\u001b[0;32m      3\u001b[0m \u001b[0mendsWithNumber\u001b[0m\u001b[1;33m.\u001b[0m\u001b[0msearch\u001b[0m\u001b[1;33m(\u001b[0m\u001b[1;34m'Ypur number is forty two.'\u001b[0m\u001b[1;33m)\u001b[0m\u001b[1;33m==\u001b[0m\u001b[1;32mNone\u001b[0m\u001b[1;33m\u001b[0m\u001b[1;33m\u001b[0m\u001b[0m\n",
      "\u001b[1;31mNameError\u001b[0m: name 'endsWithNumber' is not defined"
     ]
    }
   ],
   "source": [
    "endsWtihNumber=re.compile(r'\\d$')\n",
    "endsWithNumber.search('Your number is 42')\n",
    "endsWithNumber.search('Ypur number is forty two.')==None"
   ]
  },
  {
   "cell_type": "code",
   "execution_count": 13,
   "metadata": {},
   "outputs": [
    {
     "data": {
      "text/plain": [
       "['cat', 'hat', 'sat', 'lat', 'mat']"
      ]
     },
     "execution_count": 13,
     "metadata": {},
     "output_type": "execute_result"
    }
   ],
   "source": [
    "atRegex=re.compile(r'.at')\n",
    "atRegex.findall('The cat in the hat sat on the flat mat')"
   ]
  },
  {
   "cell_type": "code",
   "execution_count": 22,
   "metadata": {},
   "outputs": [
    {
     "name": "stdout",
     "output_type": "stream",
     "text": [
      "Saul Sweigart\n"
     ]
    }
   ],
   "source": [
    "nameRegex = re.compile(r'First Name: (.*) Last Name: (.*)')\n",
    "mo=nameRegex.search('First Name: Saul Last Name: Sweigart')\n",
    "print(mo.group(1),mo.group(2))"
   ]
  },
  {
   "cell_type": "code",
   "execution_count": 23,
   "metadata": {},
   "outputs": [
    {
     "ename": "SyntaxError",
     "evalue": "EOL while scanning string literal (<ipython-input-23-7d3aacc2c4af>, line 1)",
     "output_type": "error",
     "traceback": [
      "\u001b[1;36m  File \u001b[1;32m\"<ipython-input-23-7d3aacc2c4af>\"\u001b[1;36m, line \u001b[1;32m1\u001b[0m\n\u001b[1;33m    nongreedyRegex = re.compile(r'<.*>?)\u001b[0m\n\u001b[1;37m                                        ^\u001b[0m\n\u001b[1;31mSyntaxError\u001b[0m\u001b[1;31m:\u001b[0m EOL while scanning string literal\n"
     ]
    }
   ],
   "source": [
    "nongreedyRegex = re.compile(r'<.*>?)\n",
    "mo.nongreedyRegex.search('<To serve man> for dinner.>')\n",
    "mo.group()"
   ]
  },
  {
   "cell_type": "code",
   "execution_count": 24,
   "metadata": {},
   "outputs": [
    {
     "data": {
      "text/plain": [
       "'<To serve man> for dinner.>'"
      ]
     },
     "execution_count": 24,
     "metadata": {},
     "output_type": "execute_result"
    }
   ],
   "source": [
    "greedyRegex = re.compile(r'<.*>')\n",
    "mo = greedyRegex.search('<To serve man> for dinner.>')\n",
    "mo.group()"
   ]
  },
  {
   "cell_type": "code",
   "execution_count": 25,
   "metadata": {},
   "outputs": [
    {
     "data": {
      "text/plain": [
       "'<To serve man>'"
      ]
     },
     "execution_count": 25,
     "metadata": {},
     "output_type": "execute_result"
    }
   ],
   "source": [
    "nongreedyRegex = re.compile(r'<.*?>')\n",
    "mo = nongreedyRegex.search('<To serve man> for dinner.>')\n",
    "mo.group()"
   ]
  },
  {
   "cell_type": "code",
   "execution_count": 27,
   "metadata": {},
   "outputs": [
    {
     "data": {
      "text/plain": [
       "'Serve the public trust.\\nProtect the innocent. \\nUphold the law.'"
      ]
     },
     "execution_count": 27,
     "metadata": {},
     "output_type": "execute_result"
    }
   ],
   "source": [
    "noNewlineRegex = re.compile('.*', re.DOTALL)\n",
    "noNewlineRegex.search('Serve the public trust.\\nProtect the innocent. \\nUphold the law.').group()\n",
    "                      "
   ]
  },
  {
   "cell_type": "code",
   "execution_count": 28,
   "metadata": {},
   "outputs": [
    {
     "data": {
      "text/plain": [
       "'C:\\\\Users\\\\EON-012\\\\Python exercises'"
      ]
     },
     "execution_count": 28,
     "metadata": {},
     "output_type": "execute_result"
    }
   ],
   "source": [
    "import os\n",
    "os.getcwd()"
   ]
  },
  {
   "cell_type": "code",
   "execution_count": 29,
   "metadata": {},
   "outputs": [
    {
     "ename": "NameError",
     "evalue": "name 'path' is not defined",
     "output_type": "error",
     "traceback": [
      "\u001b[1;31m---------------------------------------------------------------------------\u001b[0m",
      "\u001b[1;31mNameError\u001b[0m                                 Traceback (most recent call last)",
      "\u001b[1;32m<ipython-input-29-2a0b4645cbdc>\u001b[0m in \u001b[0;36m<module>\u001b[1;34m\u001b[0m\n\u001b[1;32m----> 1\u001b[1;33m \u001b[0mos\u001b[0m\u001b[1;33m.\u001b[0m\u001b[0mpath\u001b[0m\u001b[1;33m.\u001b[0m\u001b[0mgetsize\u001b[0m\u001b[1;33m(\u001b[0m\u001b[0mpath\u001b[0m\u001b[1;33m)\u001b[0m\u001b[1;33m\u001b[0m\u001b[1;33m\u001b[0m\u001b[0m\n\u001b[0m",
      "\u001b[1;31mNameError\u001b[0m: name 'path' is not defined"
     ]
    }
   ],
   "source": [
    "os.path.getsize(path)"
   ]
  },
  {
   "cell_type": "code",
   "execution_count": 35,
   "metadata": {},
   "outputs": [
    {
     "data": {
      "text/plain": [
       "('C:\\\\Users\\\\EON-012', 'Python exercises')"
      ]
     },
     "execution_count": 35,
     "metadata": {},
     "output_type": "execute_result"
    }
   ],
   "source": [
    "os.path.split(os.getcwd())"
   ]
  },
  {
   "cell_type": "code",
   "execution_count": 36,
   "metadata": {},
   "outputs": [
    {
     "data": {
      "text/plain": [
       "4096"
      ]
     },
     "execution_count": 36,
     "metadata": {},
     "output_type": "execute_result"
    }
   ],
   "source": [
    "os.path.getsize(os.getcwd())"
   ]
  },
  {
   "cell_type": "code",
   "execution_count": 37,
   "metadata": {},
   "outputs": [
    {
     "data": {
      "text/plain": [
       "'C:\\\\Users\\\\EON-012\\\\Python exercises'"
      ]
     },
     "execution_count": 37,
     "metadata": {},
     "output_type": "execute_result"
    }
   ],
   "source": [
    "os.path.abspath(os.getcwd())"
   ]
  },
  {
   "cell_type": "markdown",
   "metadata": {},
   "source": [
    "domi"
   ]
  },
  {
   "cell_type": "code",
   "execution_count": 1,
   "metadata": {},
   "outputs": [
    {
     "name": "stdout",
     "output_type": "stream",
     "text": [
      "10 20 20 10 10 30 50 10 20\n",
      "['10', '20', '20', '10', '10', '30', '50', '10', '20']\n",
      "{'10': 7, '20': 8, '30': 5, '50': 6}\n"
     ]
    }
   ],
   "source": [
    "a23= [y for y in input().split()]\n",
    "print(a23)\n",
    "i23={}\n",
    "for i,v in enumerate(a23):\n",
    "    i23[v]=i\n",
    "print(i23)"
   ]
  },
  {
   "cell_type": "code",
   "execution_count": 2,
   "metadata": {
    "scrolled": true
   },
   "outputs": [
    {
     "name": "stdout",
     "output_type": "stream",
     "text": [
      "{'I': 1, 't': 6, ' ': 13, 'w': 2, 'a': 4, 's': 3, 'b': 1, 'r': 5, 'i': 6, 'g': 2, 'h': 3, 'c': 3, 'o': 2, 'l': 3, 'd': 3, 'y': 1, 'n': 4, 'A': 1, 'p': 1, ',': 1, 'e': 5, 'k': 2, '.': 1}\n"
     ]
    }
   ],
   "source": [
    "message = 'It was a bright cold day in April, and the clocks were striking thirteen.'\n",
    "count = {}\n",
    "\n",
    "for character in message:\n",
    "    count.setdefault(character, 0)\n",
    "    count[character] = count[character] + 1\n",
    "\n",
    "print(count)"
   ]
  },
  {
   "cell_type": "markdown",
   "metadata": {},
   "source": [
    "# The sock merchant\n",
    "find the pairs"
   ]
  },
  {
   "cell_type": "code",
   "execution_count": 32,
   "metadata": {},
   "outputs": [
    {
     "name": "stdout",
     "output_type": "stream",
     "text": [
      "10 20 20 10 10 30 50 10 20\n",
      "3\n"
     ]
    }
   ],
   "source": [
    "n=int(input())\n",
    "a=list(input().split())\n",
    "#print(a)\n",
    "b=[]\n",
    "c=[]\n",
    "d=[]\n",
    "counter=0\n",
    "for x in a:\n",
    "    if x not in b:\n",
    "        b.append(x)\n",
    "#print(b)\n",
    "for i in b:\n",
    "    prep=0\n",
    "    #print(a.count(i))\n",
    "    prep=(a.count(i)//2)\n",
    "    #print('prep ',prep)\n",
    "    c.append(a.count(i))\n",
    "    counter= counter+prep\n",
    "print(counter)\n",
    "\n",
    "\n",
    "    "
   ]
  },
  {
   "cell_type": "code",
   "execution_count": 6,
   "metadata": {},
   "outputs": [
    {
     "data": {
      "text/plain": [
       "['Freddie', 9, True, 1.1, 2001, ['bone', 'little ball'], 4]"
      ]
     },
     "execution_count": 6,
     "metadata": {},
     "output_type": "execute_result"
    }
   ],
   "source": [
    "dog=['Freddie',9,True,1.1,2001,['bone','little ball']]\n",
    "dog.append(4)\n",
    "dog"
   ]
  },
  {
   "cell_type": "markdown",
   "metadata": {},
   "source": [
    "# Counting valleys"
   ]
  },
  {
   "cell_type": "code",
   "execution_count": 47,
   "metadata": {},
   "outputs": [
    {
     "name": "stdout",
     "output_type": "stream",
     "text": [
      "-5 15 1\n"
     ]
    }
   ],
   "source": [
    "A='UDDDUDUDUDDDUDD'\n",
    "b=list(A)\n",
    "mountain=0\n",
    "valley=0\n",
    "sea_level=0\n",
    "steps=0\n",
    "for l in b:\n",
    "    if l == 'U':\n",
    "        sea_level=sea_level+1\n",
    "        steps+=1\n",
    "    else:\n",
    "        if sea_level==0:\n",
    "            valley+=1\n",
    "        sea_level=sea_level-1\n",
    "        steps+=1\n",
    "print(sea_level,steps,valley)\n",
    "    "
   ]
  },
  {
   "cell_type": "code",
   "execution_count": 46,
   "metadata": {
    "scrolled": true
   },
   "outputs": [
    {
     "name": "stdout",
     "output_type": "stream",
     "text": [
      "14\n",
      "UDDDUDUDUDDDUDD\n",
      "1\n"
     ]
    }
   ],
   "source": [
    "def count_valleys(n, steps):\n",
    "    num_valleys = 0        # number of valleys\n",
    "    level = 0              # starts at sea level\n",
    "    for d in steps:\n",
    "        if d == 'U':       # going upslope\n",
    "            level += 1\n",
    "        else:              # going downslope\n",
    "            if level == 0:\n",
    "                num_valleys += 1\n",
    "            level -= 1\n",
    "    return num_valleys\n",
    " \n",
    "n = int(input().strip())\n",
    "steps = input().strip()\n",
    "result = count_valleys(n, steps)\n",
    "print(result)"
   ]
  },
  {
   "cell_type": "markdown",
   "metadata": {},
   "source": [
    "\n",
    "# Jumping on the clouds\n",
    "\n",
    "HackerRank Logo\n",
    "20\n",
    "Jumping on the Clouds\n",
    "\n",
    "    Problem\n",
    "    Submissions\n",
    "    Leaderboard\n",
    "    Editorial\n",
    "\n",
    "Emma is playing a new mobile game that starts with consecutively numbered clouds. Some of the clouds are thunderheads and others are cumulus. She can jump on any cumulus cloud having a number that is equal to the number of the current cloud plus\n",
    "or\n",
    "\n",
    ". She must avoid the thunderheads. Determine the minimum number of jumps it will take Emma to jump from her starting postion to the last cloud. It is always possible to win the game.\n",
    "\n",
    "For each game, Emma will get an array of clouds numbered\n",
    "if they are safe or if they must be avoided. For example, indexed from . The number on each cloud is its index in the list so she must avoid the clouds at indexes and . She could follow the following two paths: or . The first path takes jumps while the second takes\n",
    "\n",
    ".\n",
    "\n",
    "Function Description\n",
    "\n",
    "Complete the jumpingOnClouds function in the editor below. It should return the minimum number of jumps required, as an integer.\n",
    "\n",
    "jumpingOnClouds has the following parameter(s):\n",
    "\n",
    "    c: an array of binary integers\n",
    "\n",
    "Input Format\n",
    "\n",
    "The first line contains an integer\n",
    ", the total number of clouds. The second line contains space-separated binary integers describing clouds where\n",
    "\n",
    ".\n",
    "\n",
    "Constraints\n",
    "\n",
    "Output Format\n",
    "\n",
    "Print the minimum number of jumps needed to win the game.\n",
    "\n",
    "Sample Input 0\n",
    "\n",
    "7\n",
    "0 0 1 0 0 1 0\n",
    "\n",
    "Sample Output 0\n",
    "\n",
    "4\n",
    "\n",
    "Explanation 0:\n",
    "Emma must avoid\n",
    "and . She can win the game with a minimum of\n",
    "\n",
    "jumps:\n",
    "\n",
    "[jump(2).png]\n",
    "\n",
    "Sample Input 1\n",
    "\n",
    "6\n",
    "0 0 0 0 1 0\n",
    "\n",
    "Sample Output 1\n",
    "\n",
    "3\n",
    "\n",
    "Explanation 1:\n",
    "The only thundercloud to avoid is\n",
    ". Emma can win the game in\n",
    "\n",
    "jumps:\n",
    "\n",
    "[jump(5).png] \n"
   ]
  },
  {
   "cell_type": "code",
   "execution_count": 53,
   "metadata": {
    "scrolled": false
   },
   "outputs": [
    {
     "name": "stdout",
     "output_type": "stream",
     "text": [
      "0 0 1 0 0 1 0\n",
      "[0, 0, 1, 0, 0, 1, 0]\n",
      "im in cloud 0\n",
      "jumping to cloud 1\n",
      "1\n",
      "im in cloud 0\n",
      "jumping to cloud 1\n",
      "2\n",
      "im in cloud 1\n",
      "jumping to cloud 2\n",
      "3\n",
      "im in cloud 0\n",
      "jumping to cloud 1\n",
      "4\n",
      "im in cloud 0\n",
      "jumping to cloud 1\n",
      "5\n",
      "im in cloud 1\n",
      "jumping to cloud 2\n",
      "6\n",
      "im in cloud 0\n",
      "jumping to cloud 1\n",
      "7\n"
     ]
    }
   ],
   "source": [
    "clouds=list(map(int,input().split()))\n",
    "print(clouds)\n",
    "jump=0\n",
    "for i in clouds:\n",
    "    if i+2==0:\n",
    "        print('im in cloud',i)\n",
    "        jump+=2\n",
    "        i=i+2\n",
    "        print('jumping to cloud',i)\n",
    "        print(jump)\n",
    "    else:\n",
    "        print('im in cloud',i)\n",
    "        jump+=1\n",
    "        i=i+1\n",
    "        print('jumping to cloud',i)\n",
    "        print(jump)\n",
    "        \n",
    "        \n"
   ]
  },
  {
   "cell_type": "code",
   "execution_count": null,
   "metadata": {},
   "outputs": [],
   "source": [
    "n = int(input().strip())\n",
    "clouds = [int(tmp) for tmp in input().strip().split(' ')]\n",
    "current = 0\n",
    "end = n - 1\n",
    "jumps = 0\n",
    "while current < end:\n",
    "\tif ((current + 2) <= end) and (clouds[current + 2] == 0):\n",
    "\t\tcurrent += 2\n",
    "\t\tjumps += 1\n",
    "\telif clouds[current + 1] == 0:\n",
    "\t\tcurrent += 1\n",
    "\t\tjumps += 1\n",
    "print(jumps)"
   ]
  },
  {
   "cell_type": "markdown",
   "metadata": {},
   "source": [
    "# repeated string\n",
    "Lilah has a string,\n",
    "\n",
    ", of lowercase English letters that she repeated infinitely many times.\n",
    "\n",
    "Given an integer,\n",
    ", find and print the number of letter a's in the first\n",
    "\n",
    "letters of Lilah's infinite string.\n",
    "\n",
    "For example, if the string\n",
    "and , the substring we consider is , the first characters of her infinite string. There are\n",
    "\n",
    "occurrences of a in the substring.\n",
    "\n",
    "Function Description\n",
    "\n",
    "Complete the repeatedString function in the editor below. It should return an integer representing the number of occurrences of a in the prefix of length\n",
    "\n",
    "in the infinitely repeating string.\n",
    "\n",
    "repeatedString has the following parameter(s):\n",
    "\n",
    "    s: a string to repeat\n",
    "    n: the number of characters to consider\n",
    "\n",
    "Input Format\n",
    "\n",
    "The first line contains a single string,\n",
    ".\n",
    "The second line contains an integer,\n",
    "\n",
    ".\n",
    "\n",
    "Constraints\n",
    "\n",
    "For of the test cases,\n",
    "\n",
    "    .\n",
    "\n",
    "Output Format\n",
    "\n",
    "Print a single integer denoting the number of letter a's in the first\n",
    "letters of the infinite string created by repeating\n",
    "\n",
    "infinitely many times.\n",
    "\n",
    "Sample Input 0\n",
    "\n",
    "aba\n",
    "10\n",
    "\n",
    "Sample Output 0\n",
    "\n",
    "7\n",
    "\n",
    "Explanation 0\n",
    "The first\n",
    "letters of the infinite string are abaabaabaa. Because there are a's, we print\n",
    "\n",
    "on a new line.\n",
    "\n",
    "Sample Input 1\n",
    "\n",
    "a\n",
    "1000000000000\n",
    "\n",
    "Sample Output 1\n",
    "\n",
    "1000000000000\n",
    "\n",
    "Explanation 1\n",
    "Because all of the first\n",
    "letters of the infinite string are a, we print on a new line."
   ]
  },
  {
   "cell_type": "code",
   "execution_count": 61,
   "metadata": {},
   "outputs": [
    {
     "name": "stdout",
     "output_type": "stream",
     "text": [
      "Kamisama\n",
      "50\n"
     ]
    },
    {
     "data": {
      "text/plain": [
       "19"
      ]
     },
     "execution_count": 61,
     "metadata": {},
     "output_type": "execute_result"
    }
   ],
   "source": [
    "s=input()\n",
    "n=int(input())\n",
    "smul=s*1000000\n",
    "smul.count('a',0,n)"
   ]
  },
  {
   "cell_type": "code",
   "execution_count": null,
   "metadata": {},
   "outputs": [],
   "source": []
  }
 ],
 "metadata": {
  "kernelspec": {
   "display_name": "Python 3",
   "language": "python",
   "name": "python3"
  },
  "language_info": {
   "codemirror_mode": {
    "name": "ipython",
    "version": 3
   },
   "file_extension": ".py",
   "mimetype": "text/x-python",
   "name": "python",
   "nbconvert_exporter": "python",
   "pygments_lexer": "ipython3",
   "version": "3.7.1"
  }
 },
 "nbformat": 4,
 "nbformat_minor": 2
}
