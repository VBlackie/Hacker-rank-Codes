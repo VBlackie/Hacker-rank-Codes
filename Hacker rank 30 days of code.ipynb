{
 "cells": [
  {
   "cell_type": "markdown",
   "metadata": {},
   "source": [
    "\n",
    "# Day 1\n",
    "Data types."
   ]
  },
  {
   "cell_type": "code",
   "execution_count": 2,
   "metadata": {},
   "outputs": [
    {
     "name": "stdout",
     "output_type": "stream",
     "text": [
      "16\n",
      "8.0\n",
      "is the best place to learn\n",
      "20\n",
      "12.0\n",
      "HackerRankis the best place to learn\n"
     ]
    }
   ],
   "source": [
    "i=4\n",
    "d=4.0\n",
    "s= 'HackerRank'\n",
    "i2= input()\n",
    "d2= input()\n",
    "s2=input()\n",
    "print(int(i2)+i)\n",
    "print(float(d2) + d)\n",
    "print(s+s2)\n",
    "\n",
    "\n"
   ]
  },
  {
   "cell_type": "markdown",
   "metadata": {},
   "source": [
    "# day2\n",
    "Arithmetic cost\n",
    "Objective \n",
    "In this challenge, you'll work with arithmetic operators. Check out the Tutorial tab for learning materials and an instructional video!\n",
    "\n",
    "Task \n",
    "Given the meal price (base cost of a meal), tip percent (the percentage of the meal price being added as tip), and tax percent (the percentage of the meal price being added as tax) for a meal, find and print the meal's total cost.\n",
    "\n",
    "Note: Be sure to use precise values for your calculations, or you may end up with an incorrectly rounded result!\n",
    "\n",
    "Input Format\n",
    "\n",
    "There are  lines of numeric input: \n",
    "The first line has a double,  (the cost of the meal before tax and tip). \n",
    "The second line has an integer,  (the percentage of  being added as tip). \n",
    "The third line has an integer,  (the percentage of  being added as tax).\n",
    "\n",
    "Output Format\n",
    "\n",
    "Print the total meal cost, where  is the rounded integer result of the entire bill ( with added tax and tip).\n",
    "\n",
    "Sample Input\n"
   ]
  },
  {
   "cell_type": "code",
   "execution_count": 4,
   "metadata": {},
   "outputs": [
    {
     "name": "stdout",
     "output_type": "stream",
     "text": [
      "50\n",
      "10\n",
      "15\n",
      "62\n"
     ]
    }
   ],
   "source": [
    "mealCost=float(input())\n",
    "tipPercent=int(input())\n",
    "taxPercent=int(input())\n",
    "\n",
    "Total=mealCost+(mealCost*tipPercent/100)+(mealCost*taxPercent/100)\n",
    "print(round(Total))"
   ]
  },
  {
   "cell_type": "markdown",
   "metadata": {},
   "source": [
    "# day3\n",
    "Objective \n",
    "In this challenge, we're getting started with conditional statements. Check out the Tutorial tab for learning materials and an instructional video!\n",
    "\n",
    "Task \n",
    "Given an integer, , perform the following conditional actions:\n",
    "\n",
    "If  is odd, print Weird\n",
    "If  is even and in the inclusive range of  to , print Not Weird\n",
    "If  is even and in the inclusive range of  to , print Weird\n",
    "If  is even and greater than , print Not Weird\n",
    "Complete the stub code provided in your editor to print whether or not  is weird.\n",
    "\n",
    "Input Format\n",
    "\n",
    "A single line containing a positive integer, .\n"
   ]
  },
  {
   "cell_type": "code",
   "execution_count": null,
   "metadata": {},
   "outputs": [],
   "source": []
  },
  {
   "cell_type": "markdown",
   "metadata": {},
   "source": [
    "# Day 4\n",
    "\n",
    "Objective \n",
    "In this challenge, we're going to learn about the difference between a class and an instance; because this is an Object Oriented concept, it's only enabled in certain languages. Check out the Tutorial tab for learning materials and an instructional video!\n",
    "\n",
    "Task \n",
    "Write a Person class with an instance variable, , and a constructor that takes an integer, , as a parameter. The constructor must assign  to  after confirming the argument passed as  is not negative; if a negative argument is passed as , the constructor should set  to  and print Age is not valid, setting age to 0.. In addition, you must write the following instance methods:\n",
    "\n",
    "yearPasses() should increase the  instance variable by .\n",
    "amIOld() should perform the following conditional actions:\n",
    "If , print You are young..\n",
    "If  and , print You are a teenager..\n",
    "Otherwise, print You are old..\n",
    "To help you learn by example and complete this challenge, much of the code is provided for you, but you'll be writing everything in the future. The code that creates each instance of your Person class is in the main method. Don't worry if you don't understand it all quite yet!\n",
    "\n",
    "Note: Do not remove or alter the stub code in the editor.\n",
    "\n",
    "Input Format\n",
    "\n",
    "Input is handled for you by the stub code in the editor.\n",
    "\n",
    "The first line contains an integer,  (the number of test cases), and the subsequent lines each contain an integer denoting the  of a Person instance.\n"
   ]
  },
  {
   "cell_type": "code",
   "execution_count": 7,
   "metadata": {
    "scrolled": true
   },
   "outputs": [
    {
     "name": "stdout",
     "output_type": "stream",
     "text": [
      "5\n",
      "5\n",
      "You are young\n",
      "You are young\n",
      "\n",
      "5\n",
      "You are young\n",
      "You are young\n",
      "\n",
      "5\n",
      "You are young\n",
      "You are young\n",
      "\n",
      "5\n",
      "You are young\n",
      "You are young\n",
      "\n",
      "5\n",
      "You are young\n",
      "You are young\n",
      "\n"
     ]
    }
   ],
   "source": [
    "\n",
    "class Person:\n",
    "    def __init__(self,initialAge):\n",
    "        # Add some more code to run some checks on initialAge\n",
    "        if initialAge<0:\n",
    "            self.age=0\n",
    "        else:\n",
    "            self.age=initialAge    \n",
    "\n",
    "    def amIOld(self):\n",
    "        if self.age<12:\n",
    "            print('You are young')\n",
    "        elif self.age<18:\n",
    "            print('You are a teenager')\n",
    "        else:\n",
    "            print('You are old')\n",
    "                \n",
    "        \n",
    "            # Do some computations in here and print out the correct statement to the console\n",
    "\n",
    "    def yearPasses(self):\n",
    "        # Increment the age of the person in here\n",
    "        self.age+=1\n",
    "\n",
    "t = int(input())\n",
    "for i in range(0, t):\n",
    "    age = int(input())         \n",
    "    p = Person(age)  \n",
    "    p.amIOld()\n",
    "    for j in range(0, 3):\n",
    "        p.yearPasses()       \n",
    "    p.amIOld()\n",
    "    print(\"\")"
   ]
  },
  {
   "cell_type": "markdown",
   "metadata": {},
   "source": [
    "# Day 5 Loops\n",
    "\n",
    "Objective \n",
    "In this challenge, we're going to use loops to help us do some simple math. Check out the Tutorial tab to learn more.\n",
    "\n",
    "Task \n",
    "Given an integer, , print its first  multiples. Each multiple  (where ) should be printed on a new line in the form: n x i = result.\n",
    "\n",
    "Input Format\n",
    "\n",
    "A single integer, .\n",
    "\n",
    "Constraints\n",
    "\n",
    "Output Format\n",
    "\n",
    "Print  lines of output; each line  (where ) contains the  of  in the form: \n",
    "n x i = result.\n",
    "\n",
    "\n",
    "Sample Output\n",
    "\n",
    "2 x 1 = 2\n",
    "2 x 2 = 4\n",
    "2 x 3 = 6\n",
    "2 x 4 = 8\n",
    "2 x 5 = 10\n",
    "2 x 6 = 12\n",
    "2 x 7 = 14\n",
    "2 x 8 = 16\n",
    "2 x 9 = 18\n",
    "2 x 10 = 205\n"
   ]
  },
  {
   "cell_type": "code",
   "execution_count": 6,
   "metadata": {},
   "outputs": [
    {
     "name": "stdout",
     "output_type": "stream",
     "text": [
      "5\n",
      "5 x 1 = 5\n",
      "5 x 2 = 10\n",
      "5 x 3 = 15\n",
      "5 x 4 = 20\n",
      "5 x 5 = 25\n",
      "5 x 6 = 30\n",
      "5 x 7 = 35\n",
      "5 x 8 = 40\n",
      "5 x 9 = 45\n",
      "5 x 10 = 50\n"
     ]
    }
   ],
   "source": [
    "x=input()\n",
    "for i in range(1,11):\n",
    "    print(x,'x',i,'=',i*int(x))\n"
   ]
  },
  {
   "cell_type": "markdown",
   "metadata": {},
   "source": [
    "# Day 6 Review\n",
    "Objective \n",
    "Today we're expanding our knowledge of Strings and combining it with what we've already learned about loops. Check out the Tutorial tab for learning materials and an instructional video!\n",
    "\n",
    "Task \n",
    "Given a string, , of length  that is indexed from  to , print its even-indexed and odd-indexed characters as  space-separated strings on a single line (see the Sample below for more detail).\n",
    "\n",
    "Note:  is considered to be an even index.\n",
    "\n",
    "Input Format\n",
    "\n",
    "The first line contains an integer,  (the number of test cases). \n",
    "Each line  of the  subsequent lines contain a String, .\n",
    "\n",
    "Constraints\n",
    "\n",
    "Output Format\n",
    "\n",
    "For each String  (where ), print 's even-indexed characters, followed by a space, followed by 's odd-indexed characters.\n",
    "\n",
    "Sample Input\n",
    "\n",
    "2\n",
    "Hacker\n",
    "Rank\n",
    "Sample Output\n",
    "\n",
    "Hce akr\n",
    "Rn ak"
   ]
  },
  {
   "cell_type": "code",
   "execution_count": 16,
   "metadata": {},
   "outputs": [
    {
     "name": "stdout",
     "output_type": "stream",
     "text": [
      "4\n",
      "cockerelperro\n",
      "cceepro   okrler\n",
      "aguacero\n",
      "aucr   gaeo\n",
      "guadalajara\n",
      "gaaaaa   udljr\n",
      "perrito\n",
      "prio   ert\n"
     ]
    }
   ],
   "source": [
    "num_tests=int(input())\n",
    "for i in range(num_tests):\n",
    "    test_string=input()\n",
    "    even_index_characters =''\n",
    "    odd_index_characters = ''\n",
    "    \n",
    "    for j in range(len(test_string)):\n",
    "        if j%2==0:\n",
    "            even_index_characters += test_string[j]\n",
    "        else:\n",
    "            odd_index_characters += test_string[j]\n",
    "    print(even_index_characters,' ',odd_index_characters)\n"
   ]
  },
  {
   "cell_type": "code",
   "execution_count": 21,
   "metadata": {},
   "outputs": [
    {
     "name": "stdout",
     "output_type": "stream",
     "text": [
      "2 False\n",
      "3 True\n",
      "4 True\n",
      "5 False\n",
      "6 True\n",
      "7 True\n",
      "8 True\n",
      "9 True\n"
     ]
    }
   ],
   "source": [
    "n=10\n",
    "for i in range(2,n):\n",
    "    if n%i==0:\n",
    "        print(i,False)\n",
    "    else:\n",
    "        print(i,True)\n",
    "    "
   ]
  },
  {
   "cell_type": "code",
   "execution_count": 39,
   "metadata": {},
   "outputs": [
    {
     "name": "stdout",
     "output_type": "stream",
     "text": [
      "2 24  Es divisor\n",
      "3 24  Es divisor\n",
      "4 24  Es divisor\n",
      "5 24  No es divisor\n",
      "6 24  Es divisor\n",
      "7 24  No es divisor\n",
      "8 24  Es divisor\n",
      "9 24  No es divisor\n",
      "10 24  No es divisor\n",
      "11 24  No es divisor\n",
      "12 24  Es divisor\n",
      "13 24  No es divisor\n",
      "14 24  No es divisor\n",
      "15 24  No es divisor\n",
      "16 24  No es divisor\n",
      "17 24  No es divisor\n",
      "18 24  No es divisor\n",
      "19 24  No es divisor\n",
      "20 24  No es divisor\n",
      "21 24  No es divisor\n",
      "22 24  No es divisor\n",
      "23 24  No es divisor\n"
     ]
    }
   ],
   "source": [
    "x=24\n",
    "for i in range(2,x):\n",
    "    if x%i==0:\n",
    "        print(i,' Es divisor')\n",
    "    else:\n",
    "        print(i,' No es divisor')"
   ]
  },
  {
   "cell_type": "code",
   "execution_count": 48,
   "metadata": {},
   "outputs": [],
   "source": [
    "x=18\n",
    "y=[]\n",
    "for i in range(2,x):\n",
    "    if x%i==0:\n",
    "        break\n",
    "    else:\n",
    "        print(x,'is prime')\n",
    "        break"
   ]
  },
  {
   "cell_type": "code",
   "execution_count": null,
   "metadata": {},
   "outputs": [],
   "source": []
  }
 ],
 "metadata": {
  "kernelspec": {
   "display_name": "Python 3",
   "language": "python",
   "name": "python3"
  },
  "language_info": {
   "codemirror_mode": {
    "name": "ipython",
    "version": 3
   },
   "file_extension": ".py",
   "mimetype": "text/x-python",
   "name": "python",
   "nbconvert_exporter": "python",
   "pygments_lexer": "ipython3",
   "version": "3.6.5"
  }
 },
 "nbformat": 4,
 "nbformat_minor": 2
}
